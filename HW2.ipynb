{
 "cells": [
  {
   "cell_type": "markdown",
   "metadata": {},
   "source": [
    "# CS 182: Artificial Intelligence\n",
    "# Assignment 2: Adverserial Search\n",
    "* Fall 2015\n",
    "* Due: October 2, 5pm\n"
   ]
  },
  {
   "cell_type": "markdown",
   "metadata": {},
   "source": [
    "![Ghost](http://vignette2.wikia.nocookie.net/pacman/images/c/c3/Pac-man_ghosts_blinky_inky.jpg/revision/latest?cb=20110314180633)\n",
    "\n"
   ]
  },
  {
   "cell_type": "markdown",
   "metadata": {},
   "source": [
    "\n",
    "In this assignment, you will implement search algorithms to help Pacman find paths in a maze. \n",
    "Note: We will use the Pacman framework developed at Berkeley. This framework is used world-wide to teach AI, therefore it is very important that you DO NOT publish your solutions online.\n",
    "\n",
    "## Computational Assignment:\n",
    "\n",
    "Follow the instructions at: \n",
    "\n",
    "http://ai.berkeley.edu/multiagent.html\n",
    "\n",
    "The page includes questions requiring implementation of some of the search algorithms we studied in class. Make sure to download the pacman project zip file from the above link. Do not use Assignment 1’s zip file because there are some small changes. You can, however, use your search.py and searchAgents.py files if they are helpful.\n",
    "[The grading scheme described on the Berkeley webpage will not be used, but you can use it to evaluate your agent’s performance.]\n",
    "\n",
    "We recommend cloning the assignment by running: \n",
    "\n",
    "> git clone https://github.com/CS182/HW2.git\n",
    "\n",
    "\n",
    "Submit your project to the course dropbox folder. \n",
    "\n",
    "### Notes\n",
    "\n",
    "1. Alpha-beta is an extension of MiniMax. Therefore, if you divide the work you probably don’t want to assign Minimax to one student and alpha-beta to the other. Implementing alpha-beta without first implementing Minimax will be very challenging.\n",
    "\n",
    "2. The assignment uses the term \"depth\" to mean one pacman move *and* all the ghosts move (also known as a \"ply\"). This differs from the notes, so be sure to take this into account when implementing. \n",
    "\n",
    "\n",
    "## Written Assignment\n",
    "\n",
    "Answer the following questions individually, and submit as pdf to the dropbox folder. \n",
    "\n",
    "### Question 1: \n",
    "\n",
    "Compare the performance of your pacman alpha-beta agent when it plays against the directional ghost, the random ghost and a mini-max ghost. Analyze and discuss your results.\n",
    "\n",
    "### Question 2: \n",
    "\n",
    "If you were to design a ghost agent to play with people, how would you go about choosing a strategy for the ghost? Think about the strategies people might use when playing this game, and how they might differ from strategies played by computer agents.\n",
    "\n",
    "### Question 3: \n",
    "\n",
    "Given the Minimax tree below, answer the following questions:"
   ]
  },
  {
   "cell_type": "markdown",
   "metadata": {},
   "source": [
    "<img src=\"HW2_tree.png\" alt=\"Drawing\" style=\"width: 500px;\"/>"
   ]
  },
  {
   "cell_type": "markdown",
   "metadata": {},
   "source": [
    "1. Assume alpha-beta runs depth-first from left to right. For which values of A and B, will the algorithm prune nodes C and D?\n",
    "\n",
    "2. Did alpha-beta have to expand the node with value 6? Explain."
   ]
  },
  {
   "cell_type": "code",
   "execution_count": 5,
   "metadata": {
    "collapsed": true
   },
   "outputs": [],
   "source": [
    "tree_arr = [None]*7 + [9,2,7,6,7,6,7,7]"
   ]
  },
  {
   "cell_type": "code",
   "execution_count": 6,
   "metadata": {
    "collapsed": false
   },
   "outputs": [
    {
     "data": {
      "text/plain": [
       "[None, None, None, None, None, None, None, 9, 2, 7, 6, 7, 6, 7, 7]"
      ]
     },
     "execution_count": 6,
     "metadata": {},
     "output_type": "execute_result"
    }
   ],
   "source": [
    "tree_arr"
   ]
  },
  {
   "cell_type": "code",
   "execution_count": 7,
   "metadata": {
    "collapsed": false
   },
   "outputs": [],
   "source": [
    "def child(index):\n",
    "    return [2*index+1, 2*(index+1)]\n",
    "\n",
    "def alphabeta(node_index, depth, alpha, beta, maxPlayer):\n",
    "    print node_index\n",
    "    if depth == 0 or node_index > 6:\n",
    "        return tree_arr[node_index]\n",
    "    if maxPlayer:\n",
    "        v = -float(\"inf\")\n",
    "        for index in child(node_index):\n",
    "            v = max(v, alphabeta(index, depth-1, alpha, beta, False))\n",
    "            alpha = max(alpha, v)\n",
    "            if beta <= alpha:\n",
    "                break\n",
    "        return v\n",
    "    else:\n",
    "        v = float(\"inf\")\n",
    "        for index in child(node_index):\n",
    "            v = min(v, alphabeta(index, depth-1, alpha, beta, True))\n",
    "            beta = min(beta, v)\n",
    "            if beta <= alpha:\n",
    "                break\n",
    "        return v\n",
    "        \n",
    "def minimax(node_index, depth, maxPlayer):\n",
    "    if depth == 0 or node_index > 6:\n",
    "        return tree_arr[node_index]\n",
    "    if maxPlayer:\n",
    "        v = -float(\"inf\")\n",
    "        for index in child(node_index):\n",
    "            v = max(v, minimax(index, depth-1, False))\n",
    "        return v\n",
    "    else:\n",
    "        v = float(\"inf\")\n",
    "        for index in child(node_index):\n",
    "            v = min(v, minimax(index, depth-1, True))\n",
    "        return v"
   ]
  },
  {
   "cell_type": "code",
   "execution_count": 8,
   "metadata": {
    "collapsed": false
   },
   "outputs": [
    {
     "name": "stdout",
     "output_type": "stream",
     "text": [
      "0\n",
      "1\n",
      "3\n",
      "7\n",
      "8\n",
      "4\n",
      "9\n",
      "10\n",
      "2\n",
      "5\n",
      "11\n",
      "12\n"
     ]
    },
    {
     "data": {
      "text/plain": [
       "6"
      ]
     },
     "execution_count": 8,
     "metadata": {},
     "output_type": "execute_result"
    }
   ],
   "source": [
    "alphabeta(0, 3, -float(\"inf\"), float(\"inf\"), False)"
   ]
  },
  {
   "cell_type": "code",
   "execution_count": null,
   "metadata": {
    "collapsed": true
   },
   "outputs": [],
   "source": []
  }
 ],
 "metadata": {
  "kernelspec": {
   "display_name": "Python 2",
   "language": "python",
   "name": "python2"
  },
  "language_info": {
   "codemirror_mode": {
    "name": "ipython",
    "version": 2
   },
   "file_extension": ".py",
   "mimetype": "text/x-python",
   "name": "python",
   "nbconvert_exporter": "python",
   "pygments_lexer": "ipython2",
   "version": "2.7.10"
  }
 },
 "nbformat": 4,
 "nbformat_minor": 0
}
